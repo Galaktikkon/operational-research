{
 "cells": [
  {
   "cell_type": "markdown",
   "id": "fb623e4d",
   "metadata": {},
   "source": [
    "# Genetic algorithm tests for the Courier Problem"
   ]
  },
  {
   "cell_type": "code",
   "execution_count": 22,
   "id": "6ab43d93",
   "metadata": {},
   "outputs": [],
   "source": [
    "import sys\n",
    "\n",
    "sys.path.append(\"../src\")"
   ]
  },
  {
   "cell_type": "code",
   "execution_count": 23,
   "id": "fb1cd1bf",
   "metadata": {},
   "outputs": [],
   "source": [
    "from itertools import chain, combinations\n",
    "\n",
    "\n",
    "def get_all_subsets(lst):\n",
    "    return list(chain.from_iterable(combinations(lst, r) for r in range(len(lst) + 1)))"
   ]
  },
  {
   "cell_type": "code",
   "execution_count": 24,
   "id": "1206c1e1",
   "metadata": {},
   "outputs": [],
   "source": [
    "from ga.mutations import (\n",
    "    CouriersMutation,\n",
    "    Mutation,\n",
    "    PackagesMutation,\n",
    "    RouteMutation,\n",
    "    UnusedVehiclesMutation,\n",
    "    UsedVehiclesMutation,\n",
    ")\n",
    "\n",
    "mutations: list[Mutation] = [\n",
    "    UsedVehiclesMutation,\n",
    "    UnusedVehiclesMutation,\n",
    "    CouriersMutation,\n",
    "    PackagesMutation,\n",
    "    RouteMutation,\n",
    "]\n",
    "\n",
    "muatation_suite = get_all_subsets(mutations)"
   ]
  },
  {
   "cell_type": "code",
   "execution_count": 25,
   "id": "eabf62a5",
   "metadata": {},
   "outputs": [],
   "source": [
    "import glob\n",
    "import os\n",
    "\n",
    "from model import Problem\n",
    "from problem_initializer import ProblemInitializer\n",
    "\n",
    "data_dir = \"data\"\n",
    "json_files = glob.glob(os.path.join(data_dir, \"*.json\"))\n",
    "\n",
    "data: list[tuple[str, Problem]] = []\n",
    "for json_file in json_files:\n",
    "    initializer = ProblemInitializer()\n",
    "    initializer.generate_from_json(json_file)\n",
    "    testcase_name = os.path.basename(json_file).replace(\".json\", \"\")\n",
    "    problem = initializer.get_problem()\n",
    "    data.append((testcase_name, problem))"
   ]
  },
  {
   "cell_type": "code",
   "execution_count": null,
   "id": "f7bf65df",
   "metadata": {},
   "outputs": [],
   "source": [
    "GA_RUN_PATIENCE = 10\n",
    "GA_INITIAL_POPULATION_SIZE = 50\n",
    "GA_MAX_RUN_ITERATIONS = 200\n",
    "GA_RUN_REPEAT = 10"
   ]
  },
  {
   "cell_type": "code",
   "execution_count": null,
   "id": "5e80a95a",
   "metadata": {},
   "outputs": [
    {
     "ename": "",
     "evalue": "",
     "output_type": "error",
     "traceback": [
      "\u001b[1;31mThe Kernel crashed while executing code in the current cell or a previous cell. \n",
      "\u001b[1;31mPlease review the code in the cell(s) to identify a possible cause of the failure. \n",
      "\u001b[1;31mClick <a href='https://aka.ms/vscodeJupyterKernelCrash'>here</a> for more info. \n",
      "\u001b[1;31mView Jupyter <a href='command:jupyter.viewOutput'>log</a> for further details."
     ]
    }
   ],
   "source": [
    "import time\n",
    "\n",
    "import numpy as np\n",
    "from tqdm.notebook import tqdm\n",
    "\n",
    "from ga import GA\n",
    "from model import Solution\n",
    "\n",
    "\n",
    "def run_genetic_algorithm(\n",
    "    problem: Problem,\n",
    "    mutations: list[Mutation],\n",
    "    population: list[Solution],\n",
    "    repeats: int = GA_RUN_REPEAT,\n",
    ") -> dict[str, float]:\n",
    "    best_costs = []\n",
    "    iterations_list = []\n",
    "    times = []\n",
    "    cost_func_evals = []\n",
    "\n",
    "    outer_bar = tqdm(range(repeats), desc=\"Repeats\", leave=False, position=2)\n",
    "    for _ in outer_bar:\n",
    "        best_solution_cost = np.inf\n",
    "        patience = GA_RUN_PATIENCE\n",
    "        num_iterations = 0\n",
    "        ga = GA(problem=problem, mutations=mutations, initial_population=population)\n",
    "\n",
    "        start_time = time.perf_counter()\n",
    "\n",
    "        for solution in ga.run(max_iter=GA_MAX_RUN_ITERATIONS, verbose=False):\n",
    "            current_cost = ga.get_cost(solution)\n",
    "\n",
    "            if current_cost < best_solution_cost:\n",
    "                best_solution_cost = current_cost\n",
    "                patience = GA_RUN_PATIENCE\n",
    "            else:\n",
    "                patience -= 1\n",
    "\n",
    "            if patience <= 0:\n",
    "                break\n",
    "\n",
    "            num_iterations += 1\n",
    "\n",
    "        elapsed_time = time.perf_counter() - start_time\n",
    "\n",
    "        best_costs.append(best_solution_cost)\n",
    "        iterations_list.append(num_iterations)\n",
    "        times.append(elapsed_time)\n",
    "        cost_func_evals.append(ga._cost_function_runs)\n",
    "\n",
    "    stats = {\n",
    "        \"cost_mean\": np.mean(best_costs),\n",
    "        \"cost_std\": np.std(best_costs),\n",
    "        \"best_max\": max(best_costs),\n",
    "        \"cost_min\": min(best_costs),\n",
    "        \"cost_median\": np.median(best_costs),\n",
    "        \"iterations_mean\": np.mean(iterations_list),\n",
    "        \"iterations_std\": np.std(iterations_list),\n",
    "        \"iterations_min\": min(iterations_list),\n",
    "        \"iterations_max\": max(iterations_list),\n",
    "        \"iterations_median\": np.median(iterations_list),\n",
    "        \"time_mean\": np.mean(times),\n",
    "        \"time_std\": np.std(times),\n",
    "        \"time_min\": min(times),\n",
    "        \"time_max\": max(times),\n",
    "        \"time_median\": np.median(times),\n",
    "        \"cost_func_evals_min\": min(cost_func_evals),\n",
    "        \"cost_func_evals_max\": max(cost_func_evals),\n",
    "        \"cost_func_evals_mean\": np.mean(cost_func_evals),\n",
    "        \"cost_func_evals_std\": np.std(cost_func_evals),\n",
    "        \"cost_func_evals_median\": np.median(cost_func_evals),\n",
    "    }\n",
    "\n",
    "    return stats"
   ]
  },
  {
   "cell_type": "code",
   "execution_count": null,
   "id": "2ba01c47",
   "metadata": {},
   "outputs": [
    {
     "data": {
      "application/vnd.jupyter.widget-view+json": {
       "model_id": "8a454290aba74b078ddd03bcecd95d5c",
       "version_major": 2,
       "version_minor": 0
      },
      "text/plain": [
       "Testcases:   0%|          | 0/2 [00:00<?, ?it/s]"
      ]
     },
     "metadata": {},
     "output_type": "display_data"
    },
    {
     "data": {
      "application/vnd.jupyter.widget-view+json": {
       "model_id": "ca9ec5bc89e8410783ac02c44048ed04",
       "version_major": 2,
       "version_minor": 0
      },
      "text/plain": [
       "Mutation Suites:   0%|          | 0/32 [00:00<?, ?it/s]"
      ]
     },
     "metadata": {},
     "output_type": "display_data"
    },
    {
     "data": {
      "application/vnd.jupyter.widget-view+json": {
       "model_id": "d0eff4fb039c41b39ae459798d97c016",
       "version_major": 2,
       "version_minor": 0
      },
      "text/plain": [
       "Repeats:   0%|          | 0/10 [00:00<?, ?it/s]"
      ]
     },
     "metadata": {},
     "output_type": "display_data"
    },
    {
     "data": {
      "application/vnd.jupyter.widget-view+json": {
       "model_id": "b49f84700d1d427eab2c23e0d4863869",
       "version_major": 2,
       "version_minor": 0
      },
      "text/plain": [
       "Repeats:   0%|          | 0/10 [00:00<?, ?it/s]"
      ]
     },
     "metadata": {},
     "output_type": "display_data"
    },
    {
     "data": {
      "application/vnd.jupyter.widget-view+json": {
       "model_id": "268ce31f77f74ea4847df9126242ca28",
       "version_major": 2,
       "version_minor": 0
      },
      "text/plain": [
       "Repeats:   0%|          | 0/10 [00:00<?, ?it/s]"
      ]
     },
     "metadata": {},
     "output_type": "display_data"
    },
    {
     "data": {
      "application/vnd.jupyter.widget-view+json": {
       "model_id": "548c881241b142cd938aecb9d779dcb3",
       "version_major": 2,
       "version_minor": 0
      },
      "text/plain": [
       "Repeats:   0%|          | 0/10 [00:00<?, ?it/s]"
      ]
     },
     "metadata": {},
     "output_type": "display_data"
    },
    {
     "data": {
      "application/vnd.jupyter.widget-view+json": {
       "model_id": "576699c79ee942abba577346e4435464",
       "version_major": 2,
       "version_minor": 0
      },
      "text/plain": [
       "Repeats:   0%|          | 0/10 [00:00<?, ?it/s]"
      ]
     },
     "metadata": {},
     "output_type": "display_data"
    },
    {
     "data": {
      "application/vnd.jupyter.widget-view+json": {
       "model_id": "6577d8987ac84c129bdc75742ccf14fc",
       "version_major": 2,
       "version_minor": 0
      },
      "text/plain": [
       "Repeats:   0%|          | 0/10 [00:00<?, ?it/s]"
      ]
     },
     "metadata": {},
     "output_type": "display_data"
    },
    {
     "data": {
      "application/vnd.jupyter.widget-view+json": {
       "model_id": "b552b47092bb4840afb9aac5cca95053",
       "version_major": 2,
       "version_minor": 0
      },
      "text/plain": [
       "Repeats:   0%|          | 0/10 [00:00<?, ?it/s]"
      ]
     },
     "metadata": {},
     "output_type": "display_data"
    },
    {
     "data": {
      "application/vnd.jupyter.widget-view+json": {
       "model_id": "23888cc844ff44a59bdfddaae5ba5673",
       "version_major": 2,
       "version_minor": 0
      },
      "text/plain": [
       "Repeats:   0%|          | 0/10 [00:00<?, ?it/s]"
      ]
     },
     "metadata": {},
     "output_type": "display_data"
    },
    {
     "data": {
      "application/vnd.jupyter.widget-view+json": {
       "model_id": "da4df0fe872b427b8eb00a8455e151bd",
       "version_major": 2,
       "version_minor": 0
      },
      "text/plain": [
       "Repeats:   0%|          | 0/10 [00:00<?, ?it/s]"
      ]
     },
     "metadata": {},
     "output_type": "display_data"
    },
    {
     "data": {
      "application/vnd.jupyter.widget-view+json": {
       "model_id": "9c9c244ec633414fb90eb51eb52db1a4",
       "version_major": 2,
       "version_minor": 0
      },
      "text/plain": [
       "Repeats:   0%|          | 0/10 [00:00<?, ?it/s]"
      ]
     },
     "metadata": {},
     "output_type": "display_data"
    },
    {
     "data": {
      "application/vnd.jupyter.widget-view+json": {
       "model_id": "7bbd530fa01a4a9fa794251e8a1ae39e",
       "version_major": 2,
       "version_minor": 0
      },
      "text/plain": [
       "Repeats:   0%|          | 0/10 [00:00<?, ?it/s]"
      ]
     },
     "metadata": {},
     "output_type": "display_data"
    },
    {
     "data": {
      "application/vnd.jupyter.widget-view+json": {
       "model_id": "79ab7da58a1448e9a9e2baea8a679761",
       "version_major": 2,
       "version_minor": 0
      },
      "text/plain": [
       "Repeats:   0%|          | 0/10 [00:00<?, ?it/s]"
      ]
     },
     "metadata": {},
     "output_type": "display_data"
    },
    {
     "data": {
      "application/vnd.jupyter.widget-view+json": {
       "model_id": "b27076add95b44f8af42936ae9ab8a96",
       "version_major": 2,
       "version_minor": 0
      },
      "text/plain": [
       "Repeats:   0%|          | 0/10 [00:00<?, ?it/s]"
      ]
     },
     "metadata": {},
     "output_type": "display_data"
    },
    {
     "data": {
      "application/vnd.jupyter.widget-view+json": {
       "model_id": "e35d226a1bd24c0fa2babb68b7b48336",
       "version_major": 2,
       "version_minor": 0
      },
      "text/plain": [
       "Repeats:   0%|          | 0/10 [00:00<?, ?it/s]"
      ]
     },
     "metadata": {},
     "output_type": "display_data"
    },
    {
     "data": {
      "application/vnd.jupyter.widget-view+json": {
       "model_id": "81e81d88d0db4ebc9c9933d4c853c17e",
       "version_major": 2,
       "version_minor": 0
      },
      "text/plain": [
       "Repeats:   0%|          | 0/10 [00:00<?, ?it/s]"
      ]
     },
     "metadata": {},
     "output_type": "display_data"
    },
    {
     "data": {
      "application/vnd.jupyter.widget-view+json": {
       "model_id": "8c8ce06001894f239393596a33850eb9",
       "version_major": 2,
       "version_minor": 0
      },
      "text/plain": [
       "Repeats:   0%|          | 0/10 [00:00<?, ?it/s]"
      ]
     },
     "metadata": {},
     "output_type": "display_data"
    },
    {
     "data": {
      "application/vnd.jupyter.widget-view+json": {
       "model_id": "697737bca6cc4dd4bb2cbb25733ee132",
       "version_major": 2,
       "version_minor": 0
      },
      "text/plain": [
       "Repeats:   0%|          | 0/10 [00:00<?, ?it/s]"
      ]
     },
     "metadata": {},
     "output_type": "display_data"
    },
    {
     "data": {
      "application/vnd.jupyter.widget-view+json": {
       "model_id": "a1835d6353684b409d704a358705e035",
       "version_major": 2,
       "version_minor": 0
      },
      "text/plain": [
       "Repeats:   0%|          | 0/10 [00:00<?, ?it/s]"
      ]
     },
     "metadata": {},
     "output_type": "display_data"
    },
    {
     "data": {
      "application/vnd.jupyter.widget-view+json": {
       "model_id": "6ed158d041574cfdbf8ce22d24c7d084",
       "version_major": 2,
       "version_minor": 0
      },
      "text/plain": [
       "Repeats:   0%|          | 0/10 [00:00<?, ?it/s]"
      ]
     },
     "metadata": {},
     "output_type": "display_data"
    },
    {
     "data": {
      "application/vnd.jupyter.widget-view+json": {
       "model_id": "8d8964095d7c4da8835178db546edf97",
       "version_major": 2,
       "version_minor": 0
      },
      "text/plain": [
       "Repeats:   0%|          | 0/10 [00:00<?, ?it/s]"
      ]
     },
     "metadata": {},
     "output_type": "display_data"
    },
    {
     "data": {
      "application/vnd.jupyter.widget-view+json": {
       "model_id": "3793c2ea4e95474d934fb2eaf6be3529",
       "version_major": 2,
       "version_minor": 0
      },
      "text/plain": [
       "Repeats:   0%|          | 0/10 [00:00<?, ?it/s]"
      ]
     },
     "metadata": {},
     "output_type": "display_data"
    },
    {
     "data": {
      "application/vnd.jupyter.widget-view+json": {
       "model_id": "c65449d8f47342cdab6c9c4105e616de",
       "version_major": 2,
       "version_minor": 0
      },
      "text/plain": [
       "Repeats:   0%|          | 0/10 [00:00<?, ?it/s]"
      ]
     },
     "metadata": {},
     "output_type": "display_data"
    },
    {
     "data": {
      "application/vnd.jupyter.widget-view+json": {
       "model_id": "30ddc4ecf0f9456c81f53abbae42cac9",
       "version_major": 2,
       "version_minor": 0
      },
      "text/plain": [
       "Repeats:   0%|          | 0/10 [00:00<?, ?it/s]"
      ]
     },
     "metadata": {},
     "output_type": "display_data"
    },
    {
     "data": {
      "application/vnd.jupyter.widget-view+json": {
       "model_id": "0a7c1f3b6dd4494e9d91eb6a2bdd3eea",
       "version_major": 2,
       "version_minor": 0
      },
      "text/plain": [
       "Repeats:   0%|          | 0/10 [00:00<?, ?it/s]"
      ]
     },
     "metadata": {},
     "output_type": "display_data"
    },
    {
     "data": {
      "application/vnd.jupyter.widget-view+json": {
       "model_id": "82650dfff5d041099c1085908190366f",
       "version_major": 2,
       "version_minor": 0
      },
      "text/plain": [
       "Repeats:   0%|          | 0/10 [00:00<?, ?it/s]"
      ]
     },
     "metadata": {},
     "output_type": "display_data"
    },
    {
     "data": {
      "application/vnd.jupyter.widget-view+json": {
       "model_id": "b8ec81df677d4cfa9371f6aa26fda1de",
       "version_major": 2,
       "version_minor": 0
      },
      "text/plain": [
       "Repeats:   0%|          | 0/10 [00:00<?, ?it/s]"
      ]
     },
     "metadata": {},
     "output_type": "display_data"
    },
    {
     "data": {
      "application/vnd.jupyter.widget-view+json": {
       "model_id": "f1ee07c74615495e9e9c0d406ad5d67b",
       "version_major": 2,
       "version_minor": 0
      },
      "text/plain": [
       "Repeats:   0%|          | 0/10 [00:00<?, ?it/s]"
      ]
     },
     "metadata": {},
     "output_type": "display_data"
    },
    {
     "data": {
      "application/vnd.jupyter.widget-view+json": {
       "model_id": "6d09e6c5aa9d4b59ae6967b4c31310b1",
       "version_major": 2,
       "version_minor": 0
      },
      "text/plain": [
       "Repeats:   0%|          | 0/10 [00:00<?, ?it/s]"
      ]
     },
     "metadata": {},
     "output_type": "display_data"
    },
    {
     "data": {
      "application/vnd.jupyter.widget-view+json": {
       "model_id": "96135e2aa9fd41b69ae257faed28be60",
       "version_major": 2,
       "version_minor": 0
      },
      "text/plain": [
       "Repeats:   0%|          | 0/10 [00:00<?, ?it/s]"
      ]
     },
     "metadata": {},
     "output_type": "display_data"
    },
    {
     "data": {
      "application/vnd.jupyter.widget-view+json": {
       "model_id": "6c0b4f76606c4d7aad7f78a98751c458",
       "version_major": 2,
       "version_minor": 0
      },
      "text/plain": [
       "Repeats:   0%|          | 0/10 [00:00<?, ?it/s]"
      ]
     },
     "metadata": {},
     "output_type": "display_data"
    },
    {
     "data": {
      "application/vnd.jupyter.widget-view+json": {
       "model_id": "c21735cc902b4f92b4276d4b67e850af",
       "version_major": 2,
       "version_minor": 0
      },
      "text/plain": [
       "Repeats:   0%|          | 0/10 [00:00<?, ?it/s]"
      ]
     },
     "metadata": {},
     "output_type": "display_data"
    },
    {
     "data": {
      "application/vnd.jupyter.widget-view+json": {
       "model_id": "36c5834de11042de8b5936f934580789",
       "version_major": 2,
       "version_minor": 0
      },
      "text/plain": [
       "Repeats:   0%|          | 0/10 [00:00<?, ?it/s]"
      ]
     },
     "metadata": {},
     "output_type": "display_data"
    },
    {
     "data": {
      "application/vnd.jupyter.widget-view+json": {
       "model_id": "b2285e73bc514699afaa29e03ac496ff",
       "version_major": 2,
       "version_minor": 0
      },
      "text/plain": [
       "Mutation Suites:   0%|          | 0/32 [00:00<?, ?it/s]"
      ]
     },
     "metadata": {},
     "output_type": "display_data"
    },
    {
     "data": {
      "application/vnd.jupyter.widget-view+json": {
       "model_id": "c09c9b1415674a25b63a444360c4e379",
       "version_major": 2,
       "version_minor": 0
      },
      "text/plain": [
       "Repeats:   0%|          | 0/10 [00:00<?, ?it/s]"
      ]
     },
     "metadata": {},
     "output_type": "display_data"
    },
    {
     "data": {
      "application/vnd.jupyter.widget-view+json": {
       "model_id": "5a9da5866de24712916b82b3ca7690c0",
       "version_major": 2,
       "version_minor": 0
      },
      "text/plain": [
       "Repeats:   0%|          | 0/10 [00:00<?, ?it/s]"
      ]
     },
     "metadata": {},
     "output_type": "display_data"
    },
    {
     "data": {
      "application/vnd.jupyter.widget-view+json": {
       "model_id": "a03e11ce34794d85863cd5fdadccec8a",
       "version_major": 2,
       "version_minor": 0
      },
      "text/plain": [
       "Repeats:   0%|          | 0/10 [00:00<?, ?it/s]"
      ]
     },
     "metadata": {},
     "output_type": "display_data"
    },
    {
     "data": {
      "application/vnd.jupyter.widget-view+json": {
       "model_id": "9b0c7c8fb7104cafa19ce3e9ac44725c",
       "version_major": 2,
       "version_minor": 0
      },
      "text/plain": [
       "Repeats:   0%|          | 0/10 [00:00<?, ?it/s]"
      ]
     },
     "metadata": {},
     "output_type": "display_data"
    },
    {
     "data": {
      "application/vnd.jupyter.widget-view+json": {
       "model_id": "14fe46ad569a418fbeae2c9473f025f9",
       "version_major": 2,
       "version_minor": 0
      },
      "text/plain": [
       "Repeats:   0%|          | 0/10 [00:00<?, ?it/s]"
      ]
     },
     "metadata": {},
     "output_type": "display_data"
    },
    {
     "data": {
      "application/vnd.jupyter.widget-view+json": {
       "model_id": "09fdc9a884e84e04abe2ddbd2f5d8842",
       "version_major": 2,
       "version_minor": 0
      },
      "text/plain": [
       "Repeats:   0%|          | 0/10 [00:00<?, ?it/s]"
      ]
     },
     "metadata": {},
     "output_type": "display_data"
    },
    {
     "data": {
      "application/vnd.jupyter.widget-view+json": {
       "model_id": "5b33da74645f44fc99bab0b38c600408",
       "version_major": 2,
       "version_minor": 0
      },
      "text/plain": [
       "Repeats:   0%|          | 0/10 [00:00<?, ?it/s]"
      ]
     },
     "metadata": {},
     "output_type": "display_data"
    },
    {
     "data": {
      "application/vnd.jupyter.widget-view+json": {
       "model_id": "b69cb3e855344cafa8a063e61d331abd",
       "version_major": 2,
       "version_minor": 0
      },
      "text/plain": [
       "Repeats:   0%|          | 0/10 [00:00<?, ?it/s]"
      ]
     },
     "metadata": {},
     "output_type": "display_data"
    },
    {
     "data": {
      "application/vnd.jupyter.widget-view+json": {
       "model_id": "e5c26c7b5dd746d18ccf50416719c77d",
       "version_major": 2,
       "version_minor": 0
      },
      "text/plain": [
       "Repeats:   0%|          | 0/10 [00:00<?, ?it/s]"
      ]
     },
     "metadata": {},
     "output_type": "display_data"
    },
    {
     "data": {
      "application/vnd.jupyter.widget-view+json": {
       "model_id": "23ebcab2cd16495e86aa040116def4c9",
       "version_major": 2,
       "version_minor": 0
      },
      "text/plain": [
       "Repeats:   0%|          | 0/10 [00:00<?, ?it/s]"
      ]
     },
     "metadata": {},
     "output_type": "display_data"
    },
    {
     "data": {
      "application/vnd.jupyter.widget-view+json": {
       "model_id": "ec9a5f22b4bd49fcb9d067f17672a057",
       "version_major": 2,
       "version_minor": 0
      },
      "text/plain": [
       "Repeats:   0%|          | 0/10 [00:00<?, ?it/s]"
      ]
     },
     "metadata": {},
     "output_type": "display_data"
    },
    {
     "data": {
      "application/vnd.jupyter.widget-view+json": {
       "model_id": "854da727ccd746aaaee8ab90d6b52bf3",
       "version_major": 2,
       "version_minor": 0
      },
      "text/plain": [
       "Repeats:   0%|          | 0/10 [00:00<?, ?it/s]"
      ]
     },
     "metadata": {},
     "output_type": "display_data"
    },
    {
     "data": {
      "application/vnd.jupyter.widget-view+json": {
       "model_id": "748cfbdeebd44a429d9a99f632fa9f7d",
       "version_major": 2,
       "version_minor": 0
      },
      "text/plain": [
       "Repeats:   0%|          | 0/10 [00:00<?, ?it/s]"
      ]
     },
     "metadata": {},
     "output_type": "display_data"
    },
    {
     "data": {
      "application/vnd.jupyter.widget-view+json": {
       "model_id": "f7a992c8c3174f1fa0296b1377247b12",
       "version_major": 2,
       "version_minor": 0
      },
      "text/plain": [
       "Repeats:   0%|          | 0/10 [00:00<?, ?it/s]"
      ]
     },
     "metadata": {},
     "output_type": "display_data"
    },
    {
     "data": {
      "application/vnd.jupyter.widget-view+json": {
       "model_id": "25cf02d9131b472b967d8c8e47524fa5",
       "version_major": 2,
       "version_minor": 0
      },
      "text/plain": [
       "Repeats:   0%|          | 0/10 [00:00<?, ?it/s]"
      ]
     },
     "metadata": {},
     "output_type": "display_data"
    },
    {
     "data": {
      "application/vnd.jupyter.widget-view+json": {
       "model_id": "6669dd4347fd46c0ab43010ca99f8119",
       "version_major": 2,
       "version_minor": 0
      },
      "text/plain": [
       "Repeats:   0%|          | 0/10 [00:00<?, ?it/s]"
      ]
     },
     "metadata": {},
     "output_type": "display_data"
    },
    {
     "data": {
      "application/vnd.jupyter.widget-view+json": {
       "model_id": "d00a5f94ac9f47c19d5ccda9fe0688c8",
       "version_major": 2,
       "version_minor": 0
      },
      "text/plain": [
       "Repeats:   0%|          | 0/10 [00:00<?, ?it/s]"
      ]
     },
     "metadata": {},
     "output_type": "display_data"
    },
    {
     "data": {
      "application/vnd.jupyter.widget-view+json": {
       "model_id": "0324e4d9b6434696a23a312a8c3fefc3",
       "version_major": 2,
       "version_minor": 0
      },
      "text/plain": [
       "Repeats:   0%|          | 0/10 [00:00<?, ?it/s]"
      ]
     },
     "metadata": {},
     "output_type": "display_data"
    }
   ],
   "source": [
    "import pandas as pd\n",
    "\n",
    "from generator import Generator\n",
    "\n",
    "results_list = []\n",
    "\n",
    "testcase_bar = tqdm(data, desc=\"Testcases\", position=0, leave=True)\n",
    "\n",
    "for testcase_name, problem in testcase_bar:\n",
    "    testcase_bar.set_description(f\"Testcase: {testcase_name}\")\n",
    "\n",
    "    generator = Generator(problem=problem)\n",
    "    population = generator.generate_many_feasible(\n",
    "        num_to_find=GA_INITIAL_POPULATION_SIZE, max_attempts=1000, verbose=False\n",
    "    )\n",
    "\n",
    "    mutation_bar = tqdm(\n",
    "        muatation_suite, desc=\"Mutation Suites\", position=1, leave=False\n",
    "    )\n",
    "\n",
    "    for mutation_suite in mutation_bar:\n",
    "        mutation_bar.set_description(\n",
    "            f\"Mutations: {[m.__name__ for m in mutation_suite]}\"\n",
    "        )\n",
    "\n",
    "        results = run_genetic_algorithm(\n",
    "            problem=problem,\n",
    "            mutations=mutation_suite,\n",
    "            population=population,\n",
    "        )\n",
    "\n",
    "        row = {\n",
    "            \"testcase\": testcase_name,\n",
    "            \"mutation_suite\": [m.__name__ for m in mutation_suite],\n",
    "            **results,\n",
    "        }\n",
    "        results_list.append(row)\n",
    "\n",
    "    results = pd.DataFrame(results_list)\n",
    "    results.to_parquet(f\"results/{testcase_name}_results.parquet\", index=False)"
   ]
  },
  {
   "cell_type": "code",
   "execution_count": null,
   "id": "9b129608",
   "metadata": {},
   "outputs": [],
   "source": []
  }
 ],
 "metadata": {
  "kernelspec": {
   "display_name": ".venv",
   "language": "python",
   "name": "python3"
  },
  "language_info": {
   "codemirror_mode": {
    "name": "ipython",
    "version": 3
   },
   "file_extension": ".py",
   "mimetype": "text/x-python",
   "name": "python",
   "nbconvert_exporter": "python",
   "pygments_lexer": "ipython3",
   "version": "3.11.12"
  }
 },
 "nbformat": 4,
 "nbformat_minor": 5
}
