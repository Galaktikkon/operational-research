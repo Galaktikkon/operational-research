{
 "cells": [
  {
   "cell_type": "markdown",
   "id": "fb623e4d",
   "metadata": {},
   "source": [
    "# Genetic algorithm tests for the Courier Problem"
   ]
  },
  {
   "cell_type": "code",
   "execution_count": 1,
   "id": "6ab43d93",
   "metadata": {},
   "outputs": [
    {
     "name": "stderr",
     "output_type": "stream",
     "text": [
      "2025-06-14 04:25:15,379\tINFO worker.py:1879 -- Started a local Ray instance. View the dashboard at \u001b[1m\u001b[32mhttp://127.0.0.1:8265 \u001b[39m\u001b[22m\n"
     ]
    },
    {
     "data": {
      "application/vnd.jupyter.widget-view+json": {
       "model_id": "e5da996b432e4d91b54e877764dfb3b1",
       "version_major": 2,
       "version_minor": 0
      },
      "text/html": [
       "<div class=\"lm-Widget p-Widget lm-Panel p-Panel jp-Cell-outputWrapper\">\n",
       "    <div style=\"margin-left: 50px;display: flex;flex-direction: row;align-items: center\">\n",
       "        <div class=\"jp-RenderedHTMLCommon\" style=\"display: flex; flex-direction: row;\">\n",
       "  <svg viewBox=\"0 0 567 224\" fill=\"none\" xmlns=\"http://www.w3.org/2000/svg\" style=\"height: 3em;\">\n",
       "    <g clip-path=\"url(#clip0_4338_178347)\">\n",
       "        <path d=\"M341.29 165.561H355.29L330.13 129.051C345.63 123.991 354.21 112.051 354.21 94.2307C354.21 71.3707 338.72 58.1807 311.88 58.1807H271V165.561H283.27V131.661H311.8C314.25 131.661 316.71 131.501 319.01 131.351L341.25 165.561H341.29ZM283.29 119.851V70.0007H311.82C331.3 70.0007 342.34 78.2907 342.34 94.5507C342.34 111.271 331.34 119.861 311.82 119.861L283.29 119.851ZM451.4 138.411L463.4 165.561H476.74L428.74 58.1807H416L367.83 165.561H380.83L392.83 138.411H451.4ZM446.19 126.601H398L422 72.1407L446.24 126.601H446.19ZM526.11 128.741L566.91 58.1807H554.35L519.99 114.181L485.17 58.1807H472.44L514.01 129.181V165.541H526.13V128.741H526.11Z\" fill=\"var(--jp-ui-font-color0)\"/>\n",
       "        <path d=\"M82.35 104.44C84.0187 97.8827 87.8248 92.0678 93.1671 87.9146C98.5094 83.7614 105.083 81.5067 111.85 81.5067C118.617 81.5067 125.191 83.7614 130.533 87.9146C135.875 92.0678 139.681 97.8827 141.35 104.44H163.75C164.476 101.562 165.622 98.8057 167.15 96.2605L127.45 56.5605C121.071 60.3522 113.526 61.6823 106.235 60.3005C98.9443 58.9187 92.4094 54.9203 87.8602 49.0574C83.3109 43.1946 81.0609 35.8714 81.5332 28.4656C82.0056 21.0599 85.1679 14.0819 90.4252 8.8446C95.6824 3.60726 102.672 0.471508 110.08 0.0272655C117.487 -0.416977 124.802 1.86091 130.647 6.4324C136.493 11.0039 140.467 17.5539 141.821 24.8501C143.175 32.1463 141.816 39.6859 138 46.0505L177.69 85.7505C182.31 82.9877 187.58 81.4995 192.962 81.4375C198.345 81.3755 203.648 82.742 208.33 85.3976C213.012 88.0532 216.907 91.9029 219.616 96.5544C222.326 101.206 223.753 106.492 223.753 111.875C223.753 117.258 222.326 122.545 219.616 127.197C216.907 131.848 213.012 135.698 208.33 138.353C203.648 141.009 198.345 142.375 192.962 142.313C187.58 142.251 182.31 140.763 177.69 138L138 177.7C141.808 184.071 143.155 191.614 141.79 198.91C140.424 206.205 136.44 212.75 130.585 217.313C124.731 221.875 117.412 224.141 110.004 223.683C102.596 223.226 95.6103 220.077 90.3621 214.828C85.1139 209.58 81.9647 202.595 81.5072 195.187C81.0497 187.779 83.3154 180.459 87.878 174.605C92.4405 168.751 98.9853 164.766 106.281 163.401C113.576 162.035 121.119 163.383 127.49 167.19L167.19 127.49C165.664 124.941 164.518 122.182 163.79 119.3H141.39C139.721 125.858 135.915 131.673 130.573 135.826C125.231 139.98 118.657 142.234 111.89 142.234C105.123 142.234 98.5494 139.98 93.2071 135.826C87.8648 131.673 84.0587 125.858 82.39 119.3H60C58.1878 126.495 53.8086 132.78 47.6863 136.971C41.5641 141.163 34.1211 142.972 26.7579 142.059C19.3947 141.146 12.6191 137.574 7.70605 132.014C2.79302 126.454 0.0813599 119.29 0.0813599 111.87C0.0813599 104.451 2.79302 97.2871 7.70605 91.7272C12.6191 86.1673 19.3947 82.5947 26.7579 81.6817C34.1211 80.7686 41.5641 82.5781 47.6863 86.7696C53.8086 90.9611 58.1878 97.2456 60 104.44H82.35ZM100.86 204.32C103.407 206.868 106.759 208.453 110.345 208.806C113.93 209.159 117.527 208.258 120.522 206.256C123.517 204.254 125.725 201.276 126.771 197.828C127.816 194.38 127.633 190.677 126.253 187.349C124.874 184.021 122.383 181.274 119.205 179.577C116.027 177.88 112.359 177.337 108.826 178.042C105.293 178.746 102.113 180.654 99.8291 183.44C97.5451 186.226 96.2979 189.718 96.3 193.32C96.2985 195.364 96.7006 197.388 97.4831 199.275C98.2656 201.163 99.4132 202.877 100.86 204.32ZM204.32 122.88C206.868 120.333 208.453 116.981 208.806 113.396C209.159 109.811 208.258 106.214 206.256 103.219C204.254 100.223 201.275 98.0151 197.827 96.97C194.38 95.9249 190.676 96.1077 187.348 97.4873C184.02 98.8669 181.274 101.358 179.577 104.536C177.879 107.714 177.337 111.382 178.041 114.915C178.746 118.448 180.653 121.627 183.439 123.911C186.226 126.195 189.717 127.443 193.32 127.44C195.364 127.443 197.388 127.042 199.275 126.259C201.163 125.476 202.878 124.328 204.32 122.88ZM122.88 19.4205C120.333 16.8729 116.981 15.2876 113.395 14.9347C109.81 14.5817 106.213 15.483 103.218 17.4849C100.223 19.4868 98.0146 22.4654 96.9696 25.9131C95.9245 29.3608 96.1073 33.0642 97.4869 36.3922C98.8665 39.7202 101.358 42.4668 104.535 44.1639C107.713 45.861 111.381 46.4036 114.914 45.6992C118.447 44.9949 121.627 43.0871 123.911 40.301C126.195 37.515 127.442 34.0231 127.44 30.4205C127.44 28.3772 127.038 26.3539 126.255 24.4664C125.473 22.5788 124.326 20.8642 122.88 19.4205ZM19.42 100.86C16.8725 103.408 15.2872 106.76 14.9342 110.345C14.5813 113.93 15.4826 117.527 17.4844 120.522C19.4863 123.518 22.4649 125.726 25.9127 126.771C29.3604 127.816 33.0638 127.633 36.3918 126.254C39.7198 124.874 42.4664 122.383 44.1635 119.205C45.8606 116.027 46.4032 112.359 45.6988 108.826C44.9944 105.293 43.0866 102.114 40.3006 99.8296C37.5145 97.5455 34.0227 96.2983 30.42 96.3005C26.2938 96.3018 22.337 97.9421 19.42 100.86ZM100.86 100.86C98.3125 103.408 96.7272 106.76 96.3742 110.345C96.0213 113.93 96.9226 117.527 98.9244 120.522C100.926 123.518 103.905 125.726 107.353 126.771C110.8 127.816 114.504 127.633 117.832 126.254C121.16 124.874 123.906 122.383 125.604 119.205C127.301 116.027 127.843 112.359 127.139 108.826C126.434 105.293 124.527 102.114 121.741 99.8296C118.955 97.5455 115.463 96.2983 111.86 96.3005C109.817 96.299 107.793 96.701 105.905 97.4835C104.018 98.2661 102.303 99.4136 100.86 100.86Z\" fill=\"#00AEEF\"/>\n",
       "    </g>\n",
       "    <defs>\n",
       "        <clipPath id=\"clip0_4338_178347\">\n",
       "            <rect width=\"566.93\" height=\"223.75\" fill=\"white\"/>\n",
       "        </clipPath>\n",
       "    </defs>\n",
       "  </svg>\n",
       "</div>\n",
       "\n",
       "        <table class=\"jp-RenderedHTMLCommon\" style=\"border-collapse: collapse;color: var(--jp-ui-font-color1);font-size: var(--jp-ui-font-size1);\">\n",
       "    <tr>\n",
       "        <td style=\"text-align: left\"><b>Python version:</b></td>\n",
       "        <td style=\"text-align: left\"><b>3.12.3</b></td>\n",
       "    </tr>\n",
       "    <tr>\n",
       "        <td style=\"text-align: left\"><b>Ray version:</b></td>\n",
       "        <td style=\"text-align: left\"><b>2.46.0</b></td>\n",
       "    </tr>\n",
       "    <tr>\n",
       "    <td style=\"text-align: left\"><b>Dashboard:</b></td>\n",
       "    <td style=\"text-align: left\"><b><a href=\"http://127.0.0.1:8265\" target=\"_blank\">http://127.0.0.1:8265</a></b></td>\n",
       "</tr>\n",
       "\n",
       "</table>\n",
       "\n",
       "    </div>\n",
       "</div>\n"
      ],
      "text/plain": [
       "RayContext(dashboard_url='127.0.0.1:8265', python_version='3.12.3', ray_version='2.46.0', ray_commit='c3dd2ca0c2a24ddf327a213d2e936bd4eaa4ca0a')"
      ]
     },
     "execution_count": 1,
     "metadata": {},
     "output_type": "execute_result"
    },
    {
     "name": "stderr",
     "output_type": "stream",
     "text": [
      "\u001b[33m(raylet)\u001b[0m [2025-06-14 04:34:15,302 E 239590 239590] (raylet) node_manager.cc:3287: 6 Workers (tasks / actors) killed due to memory pressure (OOM), 0 Workers crashed due to other reasons at node (ID: 0789e908b3b856052da63cd60fe5f89cea96aef01a22822e6360d278, IP: 172.24.109.133) over the last time period. To see more information about the Workers killed on this node, use `ray logs raylet.out -ip 172.24.109.133`\n",
      "\u001b[33m(raylet)\u001b[0m \n",
      "\u001b[33m(raylet)\u001b[0m Refer to the documentation on how to address the out of memory issue: https://docs.ray.io/en/latest/ray-core/scheduling/ray-oom-prevention.html. Consider provisioning more memory on this node or reducing task parallelism by requesting more CPUs per task. To adjust the kill threshold, set the environment variable `RAY_memory_usage_threshold` when starting Ray. To disable worker killing, set the environment variable `RAY_memory_monitor_refresh_ms` to zero.\n",
      "\u001b[33m(raylet)\u001b[0m \n",
      "\u001b[33m(raylet)\u001b[0m [2025-06-14 04:35:15,303 E 239590 239590] (raylet) node_manager.cc:3287: 8 Workers (tasks / actors) killed due to memory pressure (OOM), 0 Workers crashed due to other reasons at node (ID: 0789e908b3b856052da63cd60fe5f89cea96aef01a22822e6360d278, IP: 172.24.109.133) over the last time period. To see more information about the Workers killed on this node, use `ray logs raylet.out -ip 172.24.109.133`\n",
      "\u001b[33m(raylet)\u001b[0m Refer to the documentation on how to address the out of memory issue: https://docs.ray.io/en/latest/ray-core/scheduling/ray-oom-prevention.html. Consider provisioning more memory on this node or reducing task parallelism by requesting more CPUs per task. To adjust the kill threshold, set the environment variable `RAY_memory_usage_threshold` when starting Ray. To disable worker killing, set the environment variable `RAY_memory_monitor_refresh_ms` to zero.\n",
      "\u001b[33m(raylet)\u001b[0m [2025-06-14 04:36:15,305 E 239590 239590] (raylet) node_manager.cc:3287: 3 Workers (tasks / actors) killed due to memory pressure (OOM), 0 Workers crashed due to other reasons at node (ID: 0789e908b3b856052da63cd60fe5f89cea96aef01a22822e6360d278, IP: 172.24.109.133) over the last time period. To see more information about the Workers killed on this node, use `ray logs raylet.out -ip 172.24.109.133`\n",
      "\u001b[33m(raylet)\u001b[0m \n",
      "\u001b[33m(raylet)\u001b[0m Refer to the documentation on how to address the out of memory issue: https://docs.ray.io/en/latest/ray-core/scheduling/ray-oom-prevention.html. Consider provisioning more memory on this node or reducing task parallelism by requesting more CPUs per task. To adjust the kill threshold, set the environment variable `RAY_memory_usage_threshold` when starting Ray. To disable worker killing, set the environment variable `RAY_memory_monitor_refresh_ms` to zero.\n",
      "\u001b[33m(raylet)\u001b[0m \n",
      "\u001b[33m(raylet)\u001b[0m [2025-06-14 04:37:15,306 E 239590 239590] (raylet) node_manager.cc:3287: 10 Workers (tasks / actors) killed due to memory pressure (OOM), 0 Workers crashed due to other reasons at node (ID: 0789e908b3b856052da63cd60fe5f89cea96aef01a22822e6360d278, IP: 172.24.109.133) over the last time period. To see more information about the Workers killed on this node, use `ray logs raylet.out -ip 172.24.109.133`\n",
      "\u001b[33m(raylet)\u001b[0m Refer to the documentation on how to address the out of memory issue: https://docs.ray.io/en/latest/ray-core/scheduling/ray-oom-prevention.html. Consider provisioning more memory on this node or reducing task parallelism by requesting more CPUs per task. To adjust the kill threshold, set the environment variable `RAY_memory_usage_threshold` when starting Ray. To disable worker killing, set the environment variable `RAY_memory_monitor_refresh_ms` to zero.\n",
      "\u001b[33m(raylet)\u001b[0m [2025-06-14 04:38:15,308 E 239590 239590] (raylet) node_manager.cc:3287: 5 Workers (tasks / actors) killed due to memory pressure (OOM), 0 Workers crashed due to other reasons at node (ID: 0789e908b3b856052da63cd60fe5f89cea96aef01a22822e6360d278, IP: 172.24.109.133) over the last time period. To see more information about the Workers killed on this node, use `ray logs raylet.out -ip 172.24.109.133`\n",
      "\u001b[33m(raylet)\u001b[0m \n",
      "\u001b[33m(raylet)\u001b[0m Refer to the documentation on how to address the out of memory issue: https://docs.ray.io/en/latest/ray-core/scheduling/ray-oom-prevention.html. Consider provisioning more memory on this node or reducing task parallelism by requesting more CPUs per task. To adjust the kill threshold, set the environment variable `RAY_memory_usage_threshold` when starting Ray. To disable worker killing, set the environment variable `RAY_memory_monitor_refresh_ms` to zero.\n",
      "\u001b[33m(raylet)\u001b[0m \n",
      "\u001b[33m(raylet)\u001b[0m [2025-06-14 04:39:15,309 E 239590 239590] (raylet) node_manager.cc:3287: 5 Workers (tasks / actors) killed due to memory pressure (OOM), 0 Workers crashed due to other reasons at node (ID: 0789e908b3b856052da63cd60fe5f89cea96aef01a22822e6360d278, IP: 172.24.109.133) over the last time period. To see more information about the Workers killed on this node, use `ray logs raylet.out -ip 172.24.109.133`\n",
      "\u001b[33m(raylet)\u001b[0m Refer to the documentation on how to address the out of memory issue: https://docs.ray.io/en/latest/ray-core/scheduling/ray-oom-prevention.html. Consider provisioning more memory on this node or reducing task parallelism by requesting more CPUs per task. To adjust the kill threshold, set the environment variable `RAY_memory_usage_threshold` when starting Ray. To disable worker killing, set the environment variable `RAY_memory_monitor_refresh_ms` to zero.\n",
      "\u001b[33m(raylet)\u001b[0m [2025-06-14 04:40:15,311 E 239590 239590] (raylet) node_manager.cc:3287: 2 Workers (tasks / actors) killed due to memory pressure (OOM), 0 Workers crashed due to other reasons at node (ID: 0789e908b3b856052da63cd60fe5f89cea96aef01a22822e6360d278, IP: 172.24.109.133) over the last time period. To see more information about the Workers killed on this node, use `ray logs raylet.out -ip 172.24.109.133`\n",
      "\u001b[33m(raylet)\u001b[0m \n",
      "\u001b[33m(raylet)\u001b[0m Refer to the documentation on how to address the out of memory issue: https://docs.ray.io/en/latest/ray-core/scheduling/ray-oom-prevention.html. Consider provisioning more memory on this node or reducing task parallelism by requesting more CPUs per task. To adjust the kill threshold, set the environment variable `RAY_memory_usage_threshold` when starting Ray. To disable worker killing, set the environment variable `RAY_memory_monitor_refresh_ms` to zero.\n",
      "\u001b[33m(raylet)\u001b[0m \n",
      "\u001b[33m(raylet)\u001b[0m [2025-06-14 04:41:15,312 E 239590 239590] (raylet) node_manager.cc:3287: 2 Workers (tasks / actors) killed due to memory pressure (OOM), 0 Workers crashed due to other reasons at node (ID: 0789e908b3b856052da63cd60fe5f89cea96aef01a22822e6360d278, IP: 172.24.109.133) over the last time period. To see more information about the Workers killed on this node, use `ray logs raylet.out -ip 172.24.109.133`\n",
      "\u001b[33m(raylet)\u001b[0m Refer to the documentation on how to address the out of memory issue: https://docs.ray.io/en/latest/ray-core/scheduling/ray-oom-prevention.html. Consider provisioning more memory on this node or reducing task parallelism by requesting more CPUs per task. To adjust the kill threshold, set the environment variable `RAY_memory_usage_threshold` when starting Ray. To disable worker killing, set the environment variable `RAY_memory_monitor_refresh_ms` to zero.\n",
      "\u001b[33m(raylet)\u001b[0m [2025-06-14 04:42:15,314 E 239590 239590] (raylet) node_manager.cc:3287: 5 Workers (tasks / actors) killed due to memory pressure (OOM), 0 Workers crashed due to other reasons at node (ID: 0789e908b3b856052da63cd60fe5f89cea96aef01a22822e6360d278, IP: 172.24.109.133) over the last time period. To see more information about the Workers killed on this node, use `ray logs raylet.out -ip 172.24.109.133`\n",
      "\u001b[33m(raylet)\u001b[0m \n",
      "\u001b[33m(raylet)\u001b[0m Refer to the documentation on how to address the out of memory issue: https://docs.ray.io/en/latest/ray-core/scheduling/ray-oom-prevention.html. Consider provisioning more memory on this node or reducing task parallelism by requesting more CPUs per task. To adjust the kill threshold, set the environment variable `RAY_memory_usage_threshold` when starting Ray. To disable worker killing, set the environment variable `RAY_memory_monitor_refresh_ms` to zero.\n",
      "\u001b[33m(raylet)\u001b[0m \n",
      "\u001b[33m(raylet)\u001b[0m [2025-06-14 04:43:15,316 E 239590 239590] (raylet) node_manager.cc:3287: 3 Workers (tasks / actors) killed due to memory pressure (OOM), 0 Workers crashed due to other reasons at node (ID: 0789e908b3b856052da63cd60fe5f89cea96aef01a22822e6360d278, IP: 172.24.109.133) over the last time period. To see more information about the Workers killed on this node, use `ray logs raylet.out -ip 172.24.109.133`\n",
      "\u001b[33m(raylet)\u001b[0m Refer to the documentation on how to address the out of memory issue: https://docs.ray.io/en/latest/ray-core/scheduling/ray-oom-prevention.html. Consider provisioning more memory on this node or reducing task parallelism by requesting more CPUs per task. To adjust the kill threshold, set the environment variable `RAY_memory_usage_threshold` when starting Ray. To disable worker killing, set the environment variable `RAY_memory_monitor_refresh_ms` to zero.\n",
      "\u001b[33m(raylet)\u001b[0m [2025-06-14 04:44:15,317 E 239590 239590] (raylet) node_manager.cc:3287: 3 Workers (tasks / actors) killed due to memory pressure (OOM), 0 Workers crashed due to other reasons at node (ID: 0789e908b3b856052da63cd60fe5f89cea96aef01a22822e6360d278, IP: 172.24.109.133) over the last time period. To see more information about the Workers killed on this node, use `ray logs raylet.out -ip 172.24.109.133`\n",
      "\u001b[33m(raylet)\u001b[0m \n",
      "\u001b[33m(raylet)\u001b[0m Refer to the documentation on how to address the out of memory issue: https://docs.ray.io/en/latest/ray-core/scheduling/ray-oom-prevention.html. Consider provisioning more memory on this node or reducing task parallelism by requesting more CPUs per task. To adjust the kill threshold, set the environment variable `RAY_memory_usage_threshold` when starting Ray. To disable worker killing, set the environment variable `RAY_memory_monitor_refresh_ms` to zero.\n",
      "\u001b[33m(raylet)\u001b[0m \n",
      "\u001b[33m(raylet)\u001b[0m [2025-06-14 04:45:15,319 E 239590 239590] (raylet) node_manager.cc:3287: 2 Workers (tasks / actors) killed due to memory pressure (OOM), 0 Workers crashed due to other reasons at node (ID: 0789e908b3b856052da63cd60fe5f89cea96aef01a22822e6360d278, IP: 172.24.109.133) over the last time period. To see more information about the Workers killed on this node, use `ray logs raylet.out -ip 172.24.109.133`\n",
      "\u001b[33m(raylet)\u001b[0m Refer to the documentation on how to address the out of memory issue: https://docs.ray.io/en/latest/ray-core/scheduling/ray-oom-prevention.html. Consider provisioning more memory on this node or reducing task parallelism by requesting more CPUs per task. To adjust the kill threshold, set the environment variable `RAY_memory_usage_threshold` when starting Ray. To disable worker killing, set the environment variable `RAY_memory_monitor_refresh_ms` to zero.\n",
      "\u001b[33m(raylet)\u001b[0m [2025-06-14 04:46:15,320 E 239590 239590] (raylet) node_manager.cc:3287: 3 Workers (tasks / actors) killed due to memory pressure (OOM), 0 Workers crashed due to other reasons at node (ID: 0789e908b3b856052da63cd60fe5f89cea96aef01a22822e6360d278, IP: 172.24.109.133) over the last time period. To see more information about the Workers killed on this node, use `ray logs raylet.out -ip 172.24.109.133`\n",
      "\u001b[33m(raylet)\u001b[0m \n",
      "\u001b[33m(raylet)\u001b[0m Refer to the documentation on how to address the out of memory issue: https://docs.ray.io/en/latest/ray-core/scheduling/ray-oom-prevention.html. Consider provisioning more memory on this node or reducing task parallelism by requesting more CPUs per task. To adjust the kill threshold, set the environment variable `RAY_memory_usage_threshold` when starting Ray. To disable worker killing, set the environment variable `RAY_memory_monitor_refresh_ms` to zero.\n",
      "\u001b[33m(raylet)\u001b[0m \n",
      "\u001b[33m(raylet)\u001b[0m [2025-06-14 04:47:15,322 E 239590 239590] (raylet) node_manager.cc:3287: 2 Workers (tasks / actors) killed due to memory pressure (OOM), 0 Workers crashed due to other reasons at node (ID: 0789e908b3b856052da63cd60fe5f89cea96aef01a22822e6360d278, IP: 172.24.109.133) over the last time period. To see more information about the Workers killed on this node, use `ray logs raylet.out -ip 172.24.109.133`\n",
      "\u001b[33m(raylet)\u001b[0m Refer to the documentation on how to address the out of memory issue: https://docs.ray.io/en/latest/ray-core/scheduling/ray-oom-prevention.html. Consider provisioning more memory on this node or reducing task parallelism by requesting more CPUs per task. To adjust the kill threshold, set the environment variable `RAY_memory_usage_threshold` when starting Ray. To disable worker killing, set the environment variable `RAY_memory_monitor_refresh_ms` to zero.\n",
      "\u001b[33m(raylet)\u001b[0m [2025-06-14 04:48:15,322 E 239590 239590] (raylet) node_manager.cc:3287: 2 Workers (tasks / actors) killed due to memory pressure (OOM), 0 Workers crashed due to other reasons at node (ID: 0789e908b3b856052da63cd60fe5f89cea96aef01a22822e6360d278, IP: 172.24.109.133) over the last time period. To see more information about the Workers killed on this node, use `ray logs raylet.out -ip 172.24.109.133`\n",
      "\u001b[33m(raylet)\u001b[0m \n",
      "\u001b[33m(raylet)\u001b[0m Refer to the documentation on how to address the out of memory issue: https://docs.ray.io/en/latest/ray-core/scheduling/ray-oom-prevention.html. Consider provisioning more memory on this node or reducing task parallelism by requesting more CPUs per task. To adjust the kill threshold, set the environment variable `RAY_memory_usage_threshold` when starting Ray. To disable worker killing, set the environment variable `RAY_memory_monitor_refresh_ms` to zero.\n",
      "\u001b[36m(run_suite_for_testcase_remote pid=254599)\u001b[0m [2025-06-14 04:48:47,539 E 254599 254696] core_worker.h:1617: Mismatched WorkerID: ignoring RPC for previous worker 58fca967bd1b9f94242e56243e04abb100e6eb6d3666ea14661fc349, current worker ID: e6a57ee082dd541c778421274c7dc098dc6b0cae04f205bb29a5805d\n",
      "\u001b[33m(raylet)\u001b[0m [2025-06-14 04:50:15,325 E 239590 239590] (raylet) node_manager.cc:3287: 4 Workers (tasks / actors) killed due to memory pressure (OOM), 0 Workers crashed due to other reasons at node (ID: 0789e908b3b856052da63cd60fe5f89cea96aef01a22822e6360d278, IP: 172.24.109.133) over the last time period. To see more information about the Workers killed on this node, use `ray logs raylet.out -ip 172.24.109.133`\n",
      "\u001b[33m(raylet)\u001b[0m \n",
      "\u001b[33m(raylet)\u001b[0m Refer to the documentation on how to address the out of memory issue: https://docs.ray.io/en/latest/ray-core/scheduling/ray-oom-prevention.html. Consider provisioning more memory on this node or reducing task parallelism by requesting more CPUs per task. To adjust the kill threshold, set the environment variable `RAY_memory_usage_threshold` when starting Ray. To disable worker killing, set the environment variable `RAY_memory_monitor_refresh_ms` to zero.\n",
      "\u001b[33m(raylet)\u001b[0m \n",
      "\u001b[33m(raylet)\u001b[0m [2025-06-14 04:51:15,327 E 239590 239590] (raylet) node_manager.cc:3287: 7 Workers (tasks / actors) killed due to memory pressure (OOM), 0 Workers crashed due to other reasons at node (ID: 0789e908b3b856052da63cd60fe5f89cea96aef01a22822e6360d278, IP: 172.24.109.133) over the last time period. To see more information about the Workers killed on this node, use `ray logs raylet.out -ip 172.24.109.133`\n",
      "\u001b[33m(raylet)\u001b[0m Refer to the documentation on how to address the out of memory issue: https://docs.ray.io/en/latest/ray-core/scheduling/ray-oom-prevention.html. Consider provisioning more memory on this node or reducing task parallelism by requesting more CPUs per task. To adjust the kill threshold, set the environment variable `RAY_memory_usage_threshold` when starting Ray. To disable worker killing, set the environment variable `RAY_memory_monitor_refresh_ms` to zero.\n",
      "\u001b[33m(raylet)\u001b[0m [2025-06-14 04:53:15,329 E 239590 239590] (raylet) node_manager.cc:3287: 3 Workers (tasks / actors) killed due to memory pressure (OOM), 0 Workers crashed due to other reasons at node (ID: 0789e908b3b856052da63cd60fe5f89cea96aef01a22822e6360d278, IP: 172.24.109.133) over the last time period. To see more information about the Workers killed on this node, use `ray logs raylet.out -ip 172.24.109.133`\n",
      "\u001b[33m(raylet)\u001b[0m \n",
      "\u001b[33m(raylet)\u001b[0m Refer to the documentation on how to address the out of memory issue: https://docs.ray.io/en/latest/ray-core/scheduling/ray-oom-prevention.html. Consider provisioning more memory on this node or reducing task parallelism by requesting more CPUs per task. To adjust the kill threshold, set the environment variable `RAY_memory_usage_threshold` when starting Ray. To disable worker killing, set the environment variable `RAY_memory_monitor_refresh_ms` to zero.\n",
      "\u001b[33m(raylet)\u001b[0m \n",
      "\u001b[33m(raylet)\u001b[0m [2025-06-14 04:54:15,332 E 239590 239590] (raylet) node_manager.cc:3287: 7 Workers (tasks / actors) killed due to memory pressure (OOM), 0 Workers crashed due to other reasons at node (ID: 0789e908b3b856052da63cd60fe5f89cea96aef01a22822e6360d278, IP: 172.24.109.133) over the last time period. To see more information about the Workers killed on this node, use `ray logs raylet.out -ip 172.24.109.133`\n",
      "\u001b[33m(raylet)\u001b[0m Refer to the documentation on how to address the out of memory issue: https://docs.ray.io/en/latest/ray-core/scheduling/ray-oom-prevention.html. Consider provisioning more memory on this node or reducing task parallelism by requesting more CPUs per task. To adjust the kill threshold, set the environment variable `RAY_memory_usage_threshold` when starting Ray. To disable worker killing, set the environment variable `RAY_memory_monitor_refresh_ms` to zero.\n",
      "\u001b[33m(raylet)\u001b[0m [2025-06-14 04:55:15,333 E 239590 239590] (raylet) node_manager.cc:3287: 19 Workers (tasks / actors) killed due to memory pressure (OOM), 0 Workers crashed due to other reasons at node (ID: 0789e908b3b856052da63cd60fe5f89cea96aef01a22822e6360d278, IP: 172.24.109.133) over the last time period. To see more information about the Workers killed on this node, use `ray logs raylet.out -ip 172.24.109.133`\n",
      "\u001b[33m(raylet)\u001b[0m \n",
      "\u001b[33m(raylet)\u001b[0m Refer to the documentation on how to address the out of memory issue: https://docs.ray.io/en/latest/ray-core/scheduling/ray-oom-prevention.html. Consider provisioning more memory on this node or reducing task parallelism by requesting more CPUs per task. To adjust the kill threshold, set the environment variable `RAY_memory_usage_threshold` when starting Ray. To disable worker killing, set the environment variable `RAY_memory_monitor_refresh_ms` to zero.\n",
      "\u001b[33m(raylet)\u001b[0m \n",
      "\u001b[33m(raylet)\u001b[0m [2025-06-14 04:56:15,335 E 239590 239590] (raylet) node_manager.cc:3287: 11 Workers (tasks / actors) killed due to memory pressure (OOM), 0 Workers crashed due to other reasons at node (ID: 0789e908b3b856052da63cd60fe5f89cea96aef01a22822e6360d278, IP: 172.24.109.133) over the last time period. To see more information about the Workers killed on this node, use `ray logs raylet.out -ip 172.24.109.133`\n",
      "\u001b[33m(raylet)\u001b[0m Refer to the documentation on how to address the out of memory issue: https://docs.ray.io/en/latest/ray-core/scheduling/ray-oom-prevention.html. Consider provisioning more memory on this node or reducing task parallelism by requesting more CPUs per task. To adjust the kill threshold, set the environment variable `RAY_memory_usage_threshold` when starting Ray. To disable worker killing, set the environment variable `RAY_memory_monitor_refresh_ms` to zero.\n",
      "\u001b[33m(raylet)\u001b[0m [2025-06-14 04:57:15,336 E 239590 239590] (raylet) node_manager.cc:3287: 1 Workers (tasks / actors) killed due to memory pressure (OOM), 0 Workers crashed due to other reasons at node (ID: 0789e908b3b856052da63cd60fe5f89cea96aef01a22822e6360d278, IP: 172.24.109.133) over the last time period. To see more information about the Workers killed on this node, use `ray logs raylet.out -ip 172.24.109.133`\n",
      "\u001b[33m(raylet)\u001b[0m \n",
      "\u001b[33m(raylet)\u001b[0m Refer to the documentation on how to address the out of memory issue: https://docs.ray.io/en/latest/ray-core/scheduling/ray-oom-prevention.html. Consider provisioning more memory on this node or reducing task parallelism by requesting more CPUs per task. To adjust the kill threshold, set the environment variable `RAY_memory_usage_threshold` when starting Ray. To disable worker killing, set the environment variable `RAY_memory_monitor_refresh_ms` to zero.\n",
      "\u001b[33m(raylet)\u001b[0m \n",
      "\u001b[33m(raylet)\u001b[0m [2025-06-14 04:58:15,338 E 239590 239590] (raylet) node_manager.cc:3287: 3 Workers (tasks / actors) killed due to memory pressure (OOM), 0 Workers crashed due to other reasons at node (ID: 0789e908b3b856052da63cd60fe5f89cea96aef01a22822e6360d278, IP: 172.24.109.133) over the last time period. To see more information about the Workers killed on this node, use `ray logs raylet.out -ip 172.24.109.133`\n",
      "\u001b[33m(raylet)\u001b[0m Refer to the documentation on how to address the out of memory issue: https://docs.ray.io/en/latest/ray-core/scheduling/ray-oom-prevention.html. Consider provisioning more memory on this node or reducing task parallelism by requesting more CPUs per task. To adjust the kill threshold, set the environment variable `RAY_memory_usage_threshold` when starting Ray. To disable worker killing, set the environment variable `RAY_memory_monitor_refresh_ms` to zero.\n",
      "\u001b[33m(raylet)\u001b[0m [2025-06-14 05:01:15,343 E 239590 239590] (raylet) node_manager.cc:3287: 1 Workers (tasks / actors) killed due to memory pressure (OOM), 0 Workers crashed due to other reasons at node (ID: 0789e908b3b856052da63cd60fe5f89cea96aef01a22822e6360d278, IP: 172.24.109.133) over the last time period. To see more information about the Workers killed on this node, use `ray logs raylet.out -ip 172.24.109.133`\n",
      "\u001b[33m(raylet)\u001b[0m \n",
      "\u001b[33m(raylet)\u001b[0m Refer to the documentation on how to address the out of memory issue: https://docs.ray.io/en/latest/ray-core/scheduling/ray-oom-prevention.html. Consider provisioning more memory on this node or reducing task parallelism by requesting more CPUs per task. To adjust the kill threshold, set the environment variable `RAY_memory_usage_threshold` when starting Ray. To disable worker killing, set the environment variable `RAY_memory_monitor_refresh_ms` to zero.\n",
      "\u001b[33m(raylet)\u001b[0m \n",
      "\u001b[33m(raylet)\u001b[0m [2025-06-14 05:02:15,345 E 239590 239590] (raylet) node_manager.cc:3287: 1 Workers (tasks / actors) killed due to memory pressure (OOM), 0 Workers crashed due to other reasons at node (ID: 0789e908b3b856052da63cd60fe5f89cea96aef01a22822e6360d278, IP: 172.24.109.133) over the last time period. To see more information about the Workers killed on this node, use `ray logs raylet.out -ip 172.24.109.133`\n",
      "\u001b[33m(raylet)\u001b[0m Refer to the documentation on how to address the out of memory issue: https://docs.ray.io/en/latest/ray-core/scheduling/ray-oom-prevention.html. Consider provisioning more memory on this node or reducing task parallelism by requesting more CPUs per task. To adjust the kill threshold, set the environment variable `RAY_memory_usage_threshold` when starting Ray. To disable worker killing, set the environment variable `RAY_memory_monitor_refresh_ms` to zero.\n",
      "\u001b[33m(raylet)\u001b[0m [2025-06-14 05:03:15,347 E 239590 239590] (raylet) node_manager.cc:3287: 3 Workers (tasks / actors) killed due to memory pressure (OOM), 0 Workers crashed due to other reasons at node (ID: 0789e908b3b856052da63cd60fe5f89cea96aef01a22822e6360d278, IP: 172.24.109.133) over the last time period. To see more information about the Workers killed on this node, use `ray logs raylet.out -ip 172.24.109.133`\n",
      "\u001b[33m(raylet)\u001b[0m \n",
      "\u001b[33m(raylet)\u001b[0m Refer to the documentation on how to address the out of memory issue: https://docs.ray.io/en/latest/ray-core/scheduling/ray-oom-prevention.html. Consider provisioning more memory on this node or reducing task parallelism by requesting more CPUs per task. To adjust the kill threshold, set the environment variable `RAY_memory_usage_threshold` when starting Ray. To disable worker killing, set the environment variable `RAY_memory_monitor_refresh_ms` to zero.\n",
      "\u001b[33m(raylet)\u001b[0m \n",
      "\u001b[33m(raylet)\u001b[0m [2025-06-14 05:04:15,348 E 239590 239590] (raylet) node_manager.cc:3287: 2 Workers (tasks / actors) killed due to memory pressure (OOM), 0 Workers crashed due to other reasons at node (ID: 0789e908b3b856052da63cd60fe5f89cea96aef01a22822e6360d278, IP: 172.24.109.133) over the last time period. To see more information about the Workers killed on this node, use `ray logs raylet.out -ip 172.24.109.133`\n",
      "\u001b[33m(raylet)\u001b[0m Refer to the documentation on how to address the out of memory issue: https://docs.ray.io/en/latest/ray-core/scheduling/ray-oom-prevention.html. Consider provisioning more memory on this node or reducing task parallelism by requesting more CPUs per task. To adjust the kill threshold, set the environment variable `RAY_memory_usage_threshold` when starting Ray. To disable worker killing, set the environment variable `RAY_memory_monitor_refresh_ms` to zero.\n",
      "\u001b[33m(raylet)\u001b[0m [2025-06-14 05:06:15,352 E 239590 239590] (raylet) node_manager.cc:3287: 2 Workers (tasks / actors) killed due to memory pressure (OOM), 0 Workers crashed due to other reasons at node (ID: 0789e908b3b856052da63cd60fe5f89cea96aef01a22822e6360d278, IP: 172.24.109.133) over the last time period. To see more information about the Workers killed on this node, use `ray logs raylet.out -ip 172.24.109.133`\n",
      "\u001b[33m(raylet)\u001b[0m \n",
      "\u001b[33m(raylet)\u001b[0m Refer to the documentation on how to address the out of memory issue: https://docs.ray.io/en/latest/ray-core/scheduling/ray-oom-prevention.html. Consider provisioning more memory on this node or reducing task parallelism by requesting more CPUs per task. To adjust the kill threshold, set the environment variable `RAY_memory_usage_threshold` when starting Ray. To disable worker killing, set the environment variable `RAY_memory_monitor_refresh_ms` to zero.\n"
     ]
    }
   ],
   "source": [
    "import os\n",
    "import sys\n",
    "\n",
    "sys.path.append(os.path.abspath(\"../src\"))\n",
    "\n",
    "os.environ[\"PYTHONPATH\"] = os.path.abspath(\"../src\")\n",
    "\n",
    "import ray\n",
    "\n",
    "if ray.is_initialized():\n",
    "    ray.shutdown()\n",
    "\n",
    "ray.init(\n",
    "    runtime_env={\"env_vars\": {\"PYTHONPATH\": os.environ[\"PYTHONPATH\"]}},\n",
    "    include_dashboard=True,\n",
    "    dashboard_port=8265,\n",
    ")\n"
   ]
  },
  {
   "cell_type": "code",
   "execution_count": 2,
   "id": "fb1cd1bf",
   "metadata": {},
   "outputs": [],
   "source": [
    "from itertools import chain, combinations\n",
    "\n",
    "\n",
    "def get_all_subsets(lst):\n",
    "    return list(chain.from_iterable(combinations(lst, r) for r in range(len(lst) + 1)))\n"
   ]
  },
  {
   "cell_type": "code",
   "execution_count": 3,
   "id": "1206c1e1",
   "metadata": {},
   "outputs": [
    {
     "name": "stdout",
     "output_type": "stream",
     "text": [
      "[(), (<class 'ga.mutations.vehicles.UsedVehiclesMutation'>,), (<class 'ga.mutations.vehicles.UnusedVehiclesMutation'>,), (<class 'ga.mutations.couriers.CouriersMutation'>,), (<class 'ga.mutations.packages.PackagesMutation'>,), (<class 'ga.mutations.route.RouteMutation'>,), (<class 'ga.mutations.couriers.NewCourierMutation'>,), (<class 'ga.mutations.vehicles.UsedVehiclesMutation'>, <class 'ga.mutations.vehicles.UnusedVehiclesMutation'>), (<class 'ga.mutations.vehicles.UsedVehiclesMutation'>, <class 'ga.mutations.couriers.CouriersMutation'>), (<class 'ga.mutations.vehicles.UsedVehiclesMutation'>, <class 'ga.mutations.packages.PackagesMutation'>), (<class 'ga.mutations.vehicles.UsedVehiclesMutation'>, <class 'ga.mutations.route.RouteMutation'>), (<class 'ga.mutations.vehicles.UsedVehiclesMutation'>, <class 'ga.mutations.couriers.NewCourierMutation'>), (<class 'ga.mutations.vehicles.UnusedVehiclesMutation'>, <class 'ga.mutations.couriers.CouriersMutation'>), (<class 'ga.mutations.vehicles.UnusedVehiclesMutation'>, <class 'ga.mutations.packages.PackagesMutation'>), (<class 'ga.mutations.vehicles.UnusedVehiclesMutation'>, <class 'ga.mutations.route.RouteMutation'>), (<class 'ga.mutations.vehicles.UnusedVehiclesMutation'>, <class 'ga.mutations.couriers.NewCourierMutation'>), (<class 'ga.mutations.couriers.CouriersMutation'>, <class 'ga.mutations.packages.PackagesMutation'>), (<class 'ga.mutations.couriers.CouriersMutation'>, <class 'ga.mutations.route.RouteMutation'>), (<class 'ga.mutations.couriers.CouriersMutation'>, <class 'ga.mutations.couriers.NewCourierMutation'>), (<class 'ga.mutations.packages.PackagesMutation'>, <class 'ga.mutations.route.RouteMutation'>), (<class 'ga.mutations.packages.PackagesMutation'>, <class 'ga.mutations.couriers.NewCourierMutation'>), (<class 'ga.mutations.route.RouteMutation'>, <class 'ga.mutations.couriers.NewCourierMutation'>), (<class 'ga.mutations.vehicles.UsedVehiclesMutation'>, <class 'ga.mutations.vehicles.UnusedVehiclesMutation'>, <class 'ga.mutations.couriers.CouriersMutation'>), (<class 'ga.mutations.vehicles.UsedVehiclesMutation'>, <class 'ga.mutations.vehicles.UnusedVehiclesMutation'>, <class 'ga.mutations.packages.PackagesMutation'>), (<class 'ga.mutations.vehicles.UsedVehiclesMutation'>, <class 'ga.mutations.vehicles.UnusedVehiclesMutation'>, <class 'ga.mutations.route.RouteMutation'>), (<class 'ga.mutations.vehicles.UsedVehiclesMutation'>, <class 'ga.mutations.vehicles.UnusedVehiclesMutation'>, <class 'ga.mutations.couriers.NewCourierMutation'>), (<class 'ga.mutations.vehicles.UsedVehiclesMutation'>, <class 'ga.mutations.couriers.CouriersMutation'>, <class 'ga.mutations.packages.PackagesMutation'>), (<class 'ga.mutations.vehicles.UsedVehiclesMutation'>, <class 'ga.mutations.couriers.CouriersMutation'>, <class 'ga.mutations.route.RouteMutation'>), (<class 'ga.mutations.vehicles.UsedVehiclesMutation'>, <class 'ga.mutations.couriers.CouriersMutation'>, <class 'ga.mutations.couriers.NewCourierMutation'>), (<class 'ga.mutations.vehicles.UsedVehiclesMutation'>, <class 'ga.mutations.packages.PackagesMutation'>, <class 'ga.mutations.route.RouteMutation'>), (<class 'ga.mutations.vehicles.UsedVehiclesMutation'>, <class 'ga.mutations.packages.PackagesMutation'>, <class 'ga.mutations.couriers.NewCourierMutation'>), (<class 'ga.mutations.vehicles.UsedVehiclesMutation'>, <class 'ga.mutations.route.RouteMutation'>, <class 'ga.mutations.couriers.NewCourierMutation'>), (<class 'ga.mutations.vehicles.UnusedVehiclesMutation'>, <class 'ga.mutations.couriers.CouriersMutation'>, <class 'ga.mutations.packages.PackagesMutation'>), (<class 'ga.mutations.vehicles.UnusedVehiclesMutation'>, <class 'ga.mutations.couriers.CouriersMutation'>, <class 'ga.mutations.route.RouteMutation'>), (<class 'ga.mutations.vehicles.UnusedVehiclesMutation'>, <class 'ga.mutations.couriers.CouriersMutation'>, <class 'ga.mutations.couriers.NewCourierMutation'>), (<class 'ga.mutations.vehicles.UnusedVehiclesMutation'>, <class 'ga.mutations.packages.PackagesMutation'>, <class 'ga.mutations.route.RouteMutation'>), (<class 'ga.mutations.vehicles.UnusedVehiclesMutation'>, <class 'ga.mutations.packages.PackagesMutation'>, <class 'ga.mutations.couriers.NewCourierMutation'>), (<class 'ga.mutations.vehicles.UnusedVehiclesMutation'>, <class 'ga.mutations.route.RouteMutation'>, <class 'ga.mutations.couriers.NewCourierMutation'>), (<class 'ga.mutations.couriers.CouriersMutation'>, <class 'ga.mutations.packages.PackagesMutation'>, <class 'ga.mutations.route.RouteMutation'>), (<class 'ga.mutations.couriers.CouriersMutation'>, <class 'ga.mutations.packages.PackagesMutation'>, <class 'ga.mutations.couriers.NewCourierMutation'>), (<class 'ga.mutations.couriers.CouriersMutation'>, <class 'ga.mutations.route.RouteMutation'>, <class 'ga.mutations.couriers.NewCourierMutation'>), (<class 'ga.mutations.packages.PackagesMutation'>, <class 'ga.mutations.route.RouteMutation'>, <class 'ga.mutations.couriers.NewCourierMutation'>), (<class 'ga.mutations.vehicles.UsedVehiclesMutation'>, <class 'ga.mutations.vehicles.UnusedVehiclesMutation'>, <class 'ga.mutations.couriers.CouriersMutation'>, <class 'ga.mutations.packages.PackagesMutation'>), (<class 'ga.mutations.vehicles.UsedVehiclesMutation'>, <class 'ga.mutations.vehicles.UnusedVehiclesMutation'>, <class 'ga.mutations.couriers.CouriersMutation'>, <class 'ga.mutations.route.RouteMutation'>), (<class 'ga.mutations.vehicles.UsedVehiclesMutation'>, <class 'ga.mutations.vehicles.UnusedVehiclesMutation'>, <class 'ga.mutations.couriers.CouriersMutation'>, <class 'ga.mutations.couriers.NewCourierMutation'>), (<class 'ga.mutations.vehicles.UsedVehiclesMutation'>, <class 'ga.mutations.vehicles.UnusedVehiclesMutation'>, <class 'ga.mutations.packages.PackagesMutation'>, <class 'ga.mutations.route.RouteMutation'>), (<class 'ga.mutations.vehicles.UsedVehiclesMutation'>, <class 'ga.mutations.vehicles.UnusedVehiclesMutation'>, <class 'ga.mutations.packages.PackagesMutation'>, <class 'ga.mutations.couriers.NewCourierMutation'>), (<class 'ga.mutations.vehicles.UsedVehiclesMutation'>, <class 'ga.mutations.vehicles.UnusedVehiclesMutation'>, <class 'ga.mutations.route.RouteMutation'>, <class 'ga.mutations.couriers.NewCourierMutation'>), (<class 'ga.mutations.vehicles.UsedVehiclesMutation'>, <class 'ga.mutations.couriers.CouriersMutation'>, <class 'ga.mutations.packages.PackagesMutation'>, <class 'ga.mutations.route.RouteMutation'>), (<class 'ga.mutations.vehicles.UsedVehiclesMutation'>, <class 'ga.mutations.couriers.CouriersMutation'>, <class 'ga.mutations.packages.PackagesMutation'>, <class 'ga.mutations.couriers.NewCourierMutation'>), (<class 'ga.mutations.vehicles.UsedVehiclesMutation'>, <class 'ga.mutations.couriers.CouriersMutation'>, <class 'ga.mutations.route.RouteMutation'>, <class 'ga.mutations.couriers.NewCourierMutation'>), (<class 'ga.mutations.vehicles.UsedVehiclesMutation'>, <class 'ga.mutations.packages.PackagesMutation'>, <class 'ga.mutations.route.RouteMutation'>, <class 'ga.mutations.couriers.NewCourierMutation'>), (<class 'ga.mutations.vehicles.UnusedVehiclesMutation'>, <class 'ga.mutations.couriers.CouriersMutation'>, <class 'ga.mutations.packages.PackagesMutation'>, <class 'ga.mutations.route.RouteMutation'>), (<class 'ga.mutations.vehicles.UnusedVehiclesMutation'>, <class 'ga.mutations.couriers.CouriersMutation'>, <class 'ga.mutations.packages.PackagesMutation'>, <class 'ga.mutations.couriers.NewCourierMutation'>), (<class 'ga.mutations.vehicles.UnusedVehiclesMutation'>, <class 'ga.mutations.couriers.CouriersMutation'>, <class 'ga.mutations.route.RouteMutation'>, <class 'ga.mutations.couriers.NewCourierMutation'>), (<class 'ga.mutations.vehicles.UnusedVehiclesMutation'>, <class 'ga.mutations.packages.PackagesMutation'>, <class 'ga.mutations.route.RouteMutation'>, <class 'ga.mutations.couriers.NewCourierMutation'>), (<class 'ga.mutations.couriers.CouriersMutation'>, <class 'ga.mutations.packages.PackagesMutation'>, <class 'ga.mutations.route.RouteMutation'>, <class 'ga.mutations.couriers.NewCourierMutation'>), (<class 'ga.mutations.vehicles.UsedVehiclesMutation'>, <class 'ga.mutations.vehicles.UnusedVehiclesMutation'>, <class 'ga.mutations.couriers.CouriersMutation'>, <class 'ga.mutations.packages.PackagesMutation'>, <class 'ga.mutations.route.RouteMutation'>), (<class 'ga.mutations.vehicles.UsedVehiclesMutation'>, <class 'ga.mutations.vehicles.UnusedVehiclesMutation'>, <class 'ga.mutations.couriers.CouriersMutation'>, <class 'ga.mutations.packages.PackagesMutation'>, <class 'ga.mutations.couriers.NewCourierMutation'>), (<class 'ga.mutations.vehicles.UsedVehiclesMutation'>, <class 'ga.mutations.vehicles.UnusedVehiclesMutation'>, <class 'ga.mutations.couriers.CouriersMutation'>, <class 'ga.mutations.route.RouteMutation'>, <class 'ga.mutations.couriers.NewCourierMutation'>), (<class 'ga.mutations.vehicles.UsedVehiclesMutation'>, <class 'ga.mutations.vehicles.UnusedVehiclesMutation'>, <class 'ga.mutations.packages.PackagesMutation'>, <class 'ga.mutations.route.RouteMutation'>, <class 'ga.mutations.couriers.NewCourierMutation'>), (<class 'ga.mutations.vehicles.UsedVehiclesMutation'>, <class 'ga.mutations.couriers.CouriersMutation'>, <class 'ga.mutations.packages.PackagesMutation'>, <class 'ga.mutations.route.RouteMutation'>, <class 'ga.mutations.couriers.NewCourierMutation'>), (<class 'ga.mutations.vehicles.UnusedVehiclesMutation'>, <class 'ga.mutations.couriers.CouriersMutation'>, <class 'ga.mutations.packages.PackagesMutation'>, <class 'ga.mutations.route.RouteMutation'>, <class 'ga.mutations.couriers.NewCourierMutation'>), (<class 'ga.mutations.vehicles.UsedVehiclesMutation'>, <class 'ga.mutations.vehicles.UnusedVehiclesMutation'>, <class 'ga.mutations.couriers.CouriersMutation'>, <class 'ga.mutations.packages.PackagesMutation'>, <class 'ga.mutations.route.RouteMutation'>, <class 'ga.mutations.couriers.NewCourierMutation'>)]\n"
     ]
    }
   ],
   "source": [
    "from ga.mutations import (\n",
    "    CouriersMutation,\n",
    "    Mutation,\n",
    "    NewCourierMutation,\n",
    "    PackagesMutation,\n",
    "    RouteMutation,\n",
    "    UnusedVehiclesMutation,\n",
    "    UsedVehiclesMutation,\n",
    ")\n",
    "\n",
    "all_mutations: list[Mutation] = [\n",
    "    UsedVehiclesMutation,\n",
    "    UnusedVehiclesMutation,\n",
    "    CouriersMutation,\n",
    "    PackagesMutation,\n",
    "    RouteMutation,\n",
    "    NewCourierMutation,\n",
    "]\n",
    "\n",
    "mutation_suite = get_all_subsets(all_mutations)\n",
    "print(mutation_suite)"
   ]
  },
  {
   "cell_type": "code",
   "execution_count": 4,
   "id": "eabf62a5",
   "metadata": {},
   "outputs": [],
   "source": [
    "import glob\n",
    "import os\n",
    "\n",
    "from model import Problem\n",
    "from utils import load_from_json\n",
    "\n",
    "data_dir = \"problems\"\n",
    "json_files = glob.glob(os.path.join(data_dir, \"*.json\"))\n",
    "\n",
    "data: list[tuple[str, Problem]] = []\n",
    "for json_file in json_files:\n",
    "    testcase_name = os.path.basename(json_file).replace(\".json\", \"\")\n",
    "    problem = load_from_json(json_file)\n",
    "    data.append((testcase_name, problem))\n",
    "\n",
    "data.sort(key=lambda x: x[0])"
   ]
  },
  {
   "cell_type": "code",
   "execution_count": 5,
   "id": "f7bf65df",
   "metadata": {},
   "outputs": [],
   "source": [
    "GA_RUN_PATIENCE = 100\n",
    "GA_INITIAL_POPULATION_SIZE = 50\n",
    "GA_MAX_RUN_ITERATIONS = 300\n",
    "GA_RUN_REPEAT = 10\n",
    "\n",
    "CONFIG = {\n",
    "    \"GA_RUN_PATIENCE\": GA_RUN_PATIENCE,\n",
    "    \"GA_INITIAL_POPULATION_SIZE\": GA_INITIAL_POPULATION_SIZE,\n",
    "    \"GA_MAX_RUN_ITERATIONS\": GA_MAX_RUN_ITERATIONS,\n",
    "    \"GA_RUN_REPEAT\": GA_RUN_REPEAT,\n",
    "}"
   ]
  },
  {
   "cell_type": "code",
   "execution_count": 6,
   "id": "1d7d8c30",
   "metadata": {},
   "outputs": [],
   "source": [
    "import time\n",
    "\n",
    "import numpy as np\n",
    "\n",
    "from ga import GA\n",
    "\n",
    "\n",
    "@ray.remote\n",
    "def run_single_ga_repeat(problem, mutations, population, config):\n",
    "    GA_RUN_PATIENCE = config[\"GA_RUN_PATIENCE\"]\n",
    "    GA_MAX_RUN_ITERATIONS = config[\"GA_MAX_RUN_ITERATIONS\"]\n",
    "\n",
    "    best_solution_cost = np.inf\n",
    "    patience = GA_RUN_PATIENCE\n",
    "    num_iterations = 0\n",
    "\n",
    "    for mutation in all_mutations:\n",
    "        if mutation not in mutations:\n",
    "            mutation.proba = 0\n",
    "        else:\n",
    "            mutation.proba = 0.5\n",
    "\n",
    "    ga = GA(problem=problem, initial_population=population, C=1.2, alpha=0.9)\n",
    "\n",
    "    start_time = time.perf_counter()\n",
    "\n",
    "    for state in ga.run(max_iter=GA_MAX_RUN_ITERATIONS):\n",
    "        current_cost = ga.get_cost(state.solution)\n",
    "\n",
    "        if current_cost < best_solution_cost:\n",
    "            best_solution_cost = current_cost\n",
    "            patience = GA_RUN_PATIENCE\n",
    "        else:\n",
    "            patience -= 1\n",
    "\n",
    "        if patience <= 0:\n",
    "            break\n",
    "        num_iterations += 1\n",
    "\n",
    "    elapsed_time = time.perf_counter() - start_time\n",
    "\n",
    "    return {\n",
    "        \"cost\": best_solution_cost,\n",
    "        \"iterations\": num_iterations,\n",
    "        \"time\": elapsed_time,\n",
    "        \"cost_func_evals\": ga._cost_function_runs,\n",
    "    }\n",
    "\n",
    "\n",
    "@ray.remote\n",
    "def run_suite_for_testcase_remote(\n",
    "    testcase_name, problem, mutations, population, config\n",
    "):\n",
    "    GA_RUN_REPEAT = config[\"GA_RUN_REPEAT\"]\n",
    "\n",
    "    futures = [\n",
    "        run_single_ga_repeat.remote(problem, mutations, population, config)\n",
    "        for _ in range(GA_RUN_REPEAT)\n",
    "    ]\n",
    "\n",
    "    results = ray.get(futures)\n",
    "\n",
    "    best_costs = [r[\"cost\"] for r in results]\n",
    "    iterations_list = [r[\"iterations\"] for r in results]\n",
    "    times = [r[\"time\"] for r in results]\n",
    "    cost_func_evals = [r[\"cost_func_evals\"] for r in results]\n",
    "\n",
    "    stats = {\n",
    "        \"testcase\": testcase_name,\n",
    "        \"mutation_suite\": [m.__name__ for m in mutations],\n",
    "        \"cost_mean\": np.mean(best_costs),\n",
    "        \"cost_std\": np.std(best_costs),\n",
    "        \"cost_max\": max(best_costs),\n",
    "        \"cost_min\": min(best_costs),\n",
    "        \"cost_median\": np.median(best_costs),\n",
    "        \"iterations_mean\": np.mean(iterations_list),\n",
    "        \"iterations_std\": np.std(iterations_list),\n",
    "        \"iterations_min\": min(iterations_list),\n",
    "        \"iterations_max\": max(iterations_list),\n",
    "        \"iterations_median\": np.median(iterations_list),\n",
    "        \"time_mean\": np.mean(times),\n",
    "        \"time_std\": np.std(times),\n",
    "        \"time_min\": min(times),\n",
    "        \"time_max\": max(times),\n",
    "        \"time_median\": np.median(times),\n",
    "        \"cost_func_evals_min\": min(cost_func_evals),\n",
    "        \"cost_func_evals_max\": max(cost_func_evals),\n",
    "        \"cost_func_evals_mean\": np.mean(cost_func_evals),\n",
    "        \"cost_func_evals_std\": np.std(cost_func_evals),\n",
    "        \"cost_func_evals_median\": np.median(cost_func_evals),\n",
    "    }\n",
    "\n",
    "    stats = {k: round(v, 2) if isinstance(v, float) else v for k, v in stats.items()}\n",
    "\n",
    "    return stats"
   ]
  },
  {
   "cell_type": "code",
   "execution_count": 7,
   "id": "2ba01c47",
   "metadata": {},
   "outputs": [
    {
     "data": {
      "application/vnd.jupyter.widget-view+json": {
       "model_id": "012f09bbb2a348f1871b10adf9c4dbf1",
       "version_major": 2,
       "version_minor": 0
      },
      "text/plain": [
       "Testcases:   0%|          | 0/5 [00:00<?, ?it/s]"
      ]
     },
     "metadata": {},
     "output_type": "display_data"
    },
    {
     "data": {
      "application/vnd.jupyter.widget-view+json": {
       "model_id": "dce00dce847d48c8a5275cefb2b3bbca",
       "version_major": 2,
       "version_minor": 0
      },
      "text/plain": [
       "Mutations for 01-one-courier:   0%|          | 0/64 [00:00<?, ?it/s]"
      ]
     },
     "metadata": {},
     "output_type": "display_data"
    },
    {
     "data": {
      "application/vnd.jupyter.widget-view+json": {
       "model_id": "d04ad21618b84c9cb88e19ac72a445ba",
       "version_major": 2,
       "version_minor": 0
      },
      "text/plain": [
       "Mutations for 02-four-couriers:   0%|          | 0/64 [00:00<?, ?it/s]"
      ]
     },
     "metadata": {},
     "output_type": "display_data"
    },
    {
     "data": {
      "application/vnd.jupyter.widget-view+json": {
       "model_id": "039a2146c5094806b0972230c9f560dc",
       "version_major": 2,
       "version_minor": 0
      },
      "text/plain": [
       "Mutations for 03-big:   0%|          | 0/64 [00:00<?, ?it/s]"
      ]
     },
     "metadata": {},
     "output_type": "display_data"
    },
    {
     "data": {
      "application/vnd.jupyter.widget-view+json": {
       "model_id": "76f074066cb145c1883471bc91688c21",
       "version_major": 2,
       "version_minor": 0
      },
      "text/plain": [
       "Mutations for 04-medium:   0%|          | 0/64 [00:00<?, ?it/s]"
      ]
     },
     "metadata": {},
     "output_type": "display_data"
    },
    {
     "data": {
      "application/vnd.jupyter.widget-view+json": {
       "model_id": "b5f76fc9b03c4733a7bd6d7d4f242872",
       "version_major": 2,
       "version_minor": 0
      },
      "text/plain": [
       "Mutations for 05-small:   0%|          | 0/64 [00:00<?, ?it/s]"
      ]
     },
     "metadata": {},
     "output_type": "display_data"
    }
   ],
   "source": [
    "import os\n",
    "\n",
    "import pandas as pd\n",
    "from tqdm.notebook import tqdm\n",
    "\n",
    "from generator import Generator\n",
    "\n",
    "results_dir = \"results\"\n",
    "os.makedirs(results_dir, exist_ok=True)\n",
    "\n",
    "for testcase_name, problem in tqdm(data, desc=\"Testcases\"):\n",
    "    generator = Generator(problem=problem)\n",
    "    population = generator.generate_many_feasible(\n",
    "        num_to_find=GA_INITIAL_POPULATION_SIZE, max_attempts=1000, verbose=False\n",
    "    )\n",
    "\n",
    "    futures = []\n",
    "    metadata = []\n",
    "    for mutations in mutation_suite:\n",
    "        future = run_suite_for_testcase_remote.remote(\n",
    "            testcase_name, problem, mutations, population, config=CONFIG\n",
    "        )\n",
    "        futures.append(future)\n",
    "        metadata.append([m.__name__ for m in mutations])\n",
    "\n",
    "    testcase_results = []\n",
    "    with tqdm(total=len(futures), desc=f\"Mutations for {testcase_name}\") as pbar:\n",
    "        for i, future in enumerate(futures):\n",
    "            try:\n",
    "                res = ray.get(future)\n",
    "                testcase_results.append(res)\n",
    "            except Exception as e:\n",
    "                print(\n",
    "                    f\"ERROR in testcase {testcase_name}, mutations {metadata[i]}: {e}\"\n",
    "                )\n",
    "            pbar.update(1)\n",
    "\n",
    "    if testcase_results:\n",
    "        df = pd.DataFrame(testcase_results)\n",
    "        filename = os.path.join(results_dir, f\"{testcase_name}_results.csv\")\n",
    "        df.to_csv(filename, index=False)\n"
   ]
  },
  {
   "cell_type": "code",
   "execution_count": 8,
   "id": "42cf7658",
   "metadata": {},
   "outputs": [],
   "source": [
    "# POPULATION_SUITE = [10, 25, 50, 100, 200, 300, 500]\n",
    "\n",
    "\n",
    "# for testcase_name, problem in tqdm(data, desc=\"Testcases\"):\n",
    "#     generator = Generator(problem=problem)\n",
    "\n",
    "#     for population_size in POPULATION_SUITE:\n",
    "#         population = generator.generate_many_feasible(\n",
    "#             num_to_find=population_size, max_attempts=100000, verbose=False\n",
    "#         )\n",
    "\n",
    "#     futures = []\n",
    "#     metadata = []\n",
    "#     for mutations in mutation_suite:\n",
    "#         future = run_suite_for_testcase_remote.remote(\n",
    "#             testcase_name, problem, mutations, population, config=CONFIG\n",
    "#         )\n",
    "#         futures.append(future)\n",
    "#         metadata.append([m.__name__ for m in mutations])\n",
    "\n",
    "#     testcase_results = []\n",
    "#     with tqdm(total=len(futures), desc=f\"Mutations for {testcase_name}\") as pbar:\n",
    "#         for i, future in enumerate(futures):\n",
    "#             try:\n",
    "#                 res = ray.get(future)\n",
    "#                 testcase_results.append(res)\n",
    "#             except Exception as e:\n",
    "#                 print(\n",
    "#                     f\"ERROR in testcase {testcase_name}, mutations {metadata[i]}: {e}\"\n",
    "#                 )\n",
    "#             pbar.update(1)\n",
    "\n",
    "#     if testcase_results:\n",
    "#         df = pd.DataFrame(testcase_results)\n",
    "#         filename = os.path.join(results_dir, f\"{testcase_name}_results.csv\")\n",
    "#         df.to_csv(filename, index=False)"
   ]
  }
 ],
 "metadata": {
  "kernelspec": {
   "display_name": ".venv",
   "language": "python",
   "name": "python3"
  },
  "language_info": {
   "codemirror_mode": {
    "name": "ipython",
    "version": 3
   },
   "file_extension": ".py",
   "mimetype": "text/x-python",
   "name": "python",
   "nbconvert_exporter": "python",
   "pygments_lexer": "ipython3",
   "version": "3.12.3"
  }
 },
 "nbformat": 4,
 "nbformat_minor": 5
}
